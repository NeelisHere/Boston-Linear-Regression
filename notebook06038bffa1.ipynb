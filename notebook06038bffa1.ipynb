{
 "cells": [
  {
   "cell_type": "code",
   "execution_count": 1,
   "id": "bf1b1c6e",
   "metadata": {
    "_cell_guid": "b1076dfc-b9ad-4769-8c92-a6c4dae69d19",
    "_uuid": "8f2839f25d086af736a60e9eeb907d3b93b6e0e5",
    "execution": {
     "iopub.execute_input": "2022-02-21T05:33:24.405327Z",
     "iopub.status.busy": "2022-02-21T05:33:24.403820Z",
     "iopub.status.idle": "2022-02-21T05:33:31.083752Z",
     "shell.execute_reply": "2022-02-21T05:33:31.083183Z",
     "shell.execute_reply.started": "2022-02-21T05:13:33.407023Z"
    },
    "papermill": {
     "duration": 6.690472,
     "end_time": "2022-02-21T05:33:31.083901",
     "exception": false,
     "start_time": "2022-02-21T05:33:24.393429",
     "status": "completed"
    },
    "tags": []
   },
   "outputs": [],
   "source": [
    "import cupy as np\n",
    "import cudf as pd\n",
    "from sklearn.datasets import load_boston\n",
    "boston=load_boston()\n",
    "df = pd.DataFrame(data=boston.data, columns = ['CRIM','ZN','INDUS','CHAS','NOX','RM','AGE','DIS','RAD','TAX','PTRATIO','B','LSTAT'])\n",
    "df['target'] = boston.target\n",
    "# df.head(5)\n",
    "X=df.iloc[:,0:13]\n",
    "Y=df.iloc[:,13]\n",
    "Y=np.array(Y)\n",
    "Y=Y.reshape(-1,1)\n",
    "from sklearn.preprocessing import StandardScaler\n",
    "scaler=StandardScaler()\n",
    "X_scaled=scaler.fit_transform(X.as_matrix())\n",
    "from sklearn.model_selection import train_test_split\n",
    "X_train, X_test, y_train, y_test = train_test_split(X_scaled, Y, test_size=0.3, random_state=42)\n"
   ]
  },
  {
   "cell_type": "code",
   "execution_count": 2,
   "id": "80b79f92",
   "metadata": {
    "execution": {
     "iopub.execute_input": "2022-02-21T05:33:31.102453Z",
     "iopub.status.busy": "2022-02-21T05:33:31.101830Z",
     "iopub.status.idle": "2022-02-21T05:33:36.980281Z",
     "shell.execute_reply": "2022-02-21T05:33:36.979527Z",
     "shell.execute_reply.started": "2022-02-21T05:13:33.641878Z"
    },
    "papermill": {
     "duration": 5.890115,
     "end_time": "2022-02-21T05:33:36.980451",
     "exception": false,
     "start_time": "2022-02-21T05:33:31.090336",
     "status": "completed"
    },
    "tags": []
   },
   "outputs": [
    {
     "name": "stdout",
     "output_type": "stream",
     "text": [
      "MSE: 139.59931994445407\n",
      "R2 Score: 0.7112260015709102\n",
      "MAE: 8.983415496553802\n",
      "\n",
      "MSE: 139.59931994445373\n",
      "R2 Score: 0.7112260015709106\n",
      "MAE: 8.98341549655379\n",
      "\n"
     ]
    }
   ],
   "source": [
    "import cuml\n",
    "from cuml import Ridge\n",
    "alpha = np.array([1e-5])\n",
    "types=['eig','svd']\n",
    "for op in types:\n",
    "    ridge = Ridge(alpha = alpha,solver=op,fit_intercept = True, normalize = False)\n",
    "    result_ridge = ridge.fit(X_train, y_train)\n",
    "    preds = result_ridge.predict(X_test)\n",
    "    r2=cuml.metrics.regression.r2_score(y_test,preds)\n",
    "    mae=cuml.metrics.regression.mean_absolute_error(y_test,preds)\n",
    "    mse=cuml.metrics.regression.mean_squared_error(y_test,preds)\n",
    "    print(\"MSE:\",mse)\n",
    "    print(\"R2 Score:\",r2)\n",
    "    print(\"MAE:\",mae)\n",
    "    print('')"
   ]
  },
  {
   "cell_type": "code",
   "execution_count": 3,
   "id": "10535318",
   "metadata": {
    "execution": {
     "iopub.execute_input": "2022-02-21T05:33:36.997234Z",
     "iopub.status.busy": "2022-02-21T05:33:36.996447Z",
     "iopub.status.idle": "2022-02-21T05:33:37.024382Z",
     "shell.execute_reply": "2022-02-21T05:33:37.024965Z",
     "shell.execute_reply.started": "2022-02-21T05:13:33.820627Z"
    },
    "papermill": {
     "duration": 0.037632,
     "end_time": "2022-02-21T05:33:37.025131",
     "exception": false,
     "start_time": "2022-02-21T05:33:36.987499",
     "status": "completed"
    },
    "tags": []
   },
   "outputs": [
    {
     "name": "stdout",
     "output_type": "stream",
     "text": [
      "MSE: 133.07640456326536\n",
      "R2 Score: 0.6943175280788381\n",
      "MAE: 8.773179529124079\n",
      "\n"
     ]
    }
   ],
   "source": [
    "from cuml.linear_model import Lasso\n",
    "ls = Lasso(alpha = 0.1)\n",
    "result_lasso = ls.fit(X_train, y_train)\n",
    "preds = result_lasso.predict(X_test)\n",
    "r2=cuml.metrics.regression.r2_score(y_test,preds)\n",
    "mae=cuml.metrics.regression.mean_absolute_error(y_test,preds)\n",
    "mse=cuml.metrics.regression.mean_squared_error(y_test,preds)\n",
    "print(\"MSE:\",mse)\n",
    "print(\"R2 Score:\",r2)\n",
    "print(\"MAE:\",mae)\n",
    "print('')"
   ]
  },
  {
   "cell_type": "code",
   "execution_count": null,
   "id": "51700c16",
   "metadata": {
    "papermill": {
     "duration": 0.006185,
     "end_time": "2022-02-21T05:33:37.038290",
     "exception": false,
     "start_time": "2022-02-21T05:33:37.032105",
     "status": "completed"
    },
    "tags": []
   },
   "outputs": [],
   "source": []
  },
  {
   "cell_type": "code",
   "execution_count": null,
   "id": "4132e7b4",
   "metadata": {
    "papermill": {
     "duration": 0.00656,
     "end_time": "2022-02-21T05:33:37.051000",
     "exception": false,
     "start_time": "2022-02-21T05:33:37.044440",
     "status": "completed"
    },
    "tags": []
   },
   "outputs": [],
   "source": []
  },
  {
   "cell_type": "code",
   "execution_count": null,
   "id": "e13e9e0e",
   "metadata": {
    "papermill": {
     "duration": 0.005935,
     "end_time": "2022-02-21T05:33:37.063148",
     "exception": false,
     "start_time": "2022-02-21T05:33:37.057213",
     "status": "completed"
    },
    "tags": []
   },
   "outputs": [],
   "source": []
  }
 ],
 "metadata": {
  "kernelspec": {
   "display_name": "Python 3",
   "language": "python",
   "name": "python3"
  },
  "language_info": {
   "codemirror_mode": {
    "name": "ipython",
    "version": 3
   },
   "file_extension": ".py",
   "mimetype": "text/x-python",
   "name": "python",
   "nbconvert_exporter": "python",
   "pygments_lexer": "ipython3",
   "version": "3.7.12"
  },
  "papermill": {
   "default_parameters": {},
   "duration": 21.900857,
   "end_time": "2022-02-21T05:33:38.480652",
   "environment_variables": {},
   "exception": null,
   "input_path": "__notebook__.ipynb",
   "output_path": "__notebook__.ipynb",
   "parameters": {},
   "start_time": "2022-02-21T05:33:16.579795",
   "version": "2.3.3"
  }
 },
 "nbformat": 4,
 "nbformat_minor": 5
}
